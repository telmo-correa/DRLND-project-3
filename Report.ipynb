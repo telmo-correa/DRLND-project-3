{
 "cells": [
  {
   "cell_type": "markdown",
   "metadata": {},
   "source": [
    "# Report\n",
    "\n",
    "---\n",
    "\n",
    "In this notebook, we will see an implementation for the third project of the [Deep Reinforcement Learning Nanodegree](https://www.udacity.com/course/deep-reinforcement-learning-nanodegree--nd893)."
   ]
  },
  {
   "cell_type": "markdown",
   "metadata": {},
   "source": [
    "## Implementation details\n",
    "\n",
    "### Summary\n",
    "\n",
    "The problem consists of implementing mostly-cooperative agents to play a game of Tennis.  \n",
    "- 2 agents control rackets to bounce a ball over a net\n",
    "- If an agent hits a ball over the net, it receives a reward of +0.1\n",
    "- If an agent lets a ball hit the ground or go out of bounds, it receives a reward of -0.01.\n",
    "- Episodes last until a ball hits the ground, or at most 5000 steps.\n",
    "- The observation space consists of 8 variables for each agent.\n",
    "- The action space consists of 2 continuous variables for each agent.\n",
    "\n",
    "The problem is considered solved when the maximum score over both agents, averaged over 100 consecutive episodes, is at least 0.5.  However, we are going to go above and beyond and train the problem to a solved score of **1.5** instead.\n",
    "\n",
    "We implement Multi-Agent Deep Deterministic Policy Gradient (MAADPG), presented in the paper [Multi-Agent Actor-Critic for Mixed Cooperative-Competitive Environments](https://arxiv.org/abs/1706.02275).  This is a variant of the DDPG algorithm; each agent consists of a actor network and a critic network.  \n",
    "\n",
    "Each actor network observes only the states for that agent, producing an action; each critic network observes (during training only) all states and all actions, producing a reward estimate for that agent.\n",
    "\n",
    "Experiences for all agents and states are logged on a shared replay buffer, which is sampled at every number of steps.\n",
    "\n",
    "### Networks\n",
    "\n",
    "Two actor networks and two critic networks are maintained, during training, for each agent:\n",
    "- Local actor network\n",
    "- Target actor network\n",
    "- Local critic network\n",
    "- Target critic network\n",
    "\n",
    "Updates are performed to the local network, and then to the target network, in the same manner as in single-agent DDPG.  During execution, only the local actor network is used.\n",
    "\n",
    "#### Actor\n",
    "\n",
    "Actor networks deterministically generate the policy that are used at execution time, taking into input only the state observable by that agent.\n",
    "\n",
    "$$ \\pi_1(s_1) = (a_{11}, a_{12}) $$\n",
    "$$ \\pi_2(s_2) = (a_{21}, a_{22}) $$\n",
    "\n",
    "During training, a Ornstein–Uhlenbeck noise process is added to this generated policy, which is then clipped between -1 and 1.  The resulting policies, used during training, are:\n",
    "\n",
    "$$ \\tilde{\\pi}_1(s_1) = \\mathrm{clip} (\\pi_1(s_1) + \\epsilon_1(t), -1, 1) $$\n",
    "$$ \\tilde{\\pi}_2(s_2) = \\mathrm{clip} (\\pi_2(s_2) + \\epsilon_2(t), -1, 1) $$\n",
    "\n",
    "The actor network for each agent is implemented as a two-layer fully connected neural network with batch normalization at each step, and a tanh operation at the end:\n",
    "\n",
    "      output = nn.Sequential(\n",
    "          nn.BatchNorm1d(state_size),\n",
    "          nn.Linear(state_size, 64),\n",
    "          nn.ReLU(),\n",
    "          nn.BatchNorm1d(64),\n",
    "          nn.Linear(64, 64),\n",
    "          nn.ReLU(),\n",
    "          nn.Linear(64, action_size),\n",
    "          nn.Tanh()\n",
    "      )(state)\n",
    "      \n",
    "The actor network is implemented in `model.py`.\n",
    "\n",
    "#### Critic\n",
    "\n",
    "Critic networks deterministically generated a Q-value used during training.  It takes into input the states observed by each agent, as well as the inputs generated for each agent:\n",
    "\n",
    "$$ Q_1(s_1, s_2, \\tilde{\\pi}_1(s_1), \\tilde{\\pi}_2(s_2)) = v_1 $$\n",
    "$$ Q_2(s_1, s_2, \\tilde{\\pi}_1(s_1), \\tilde{\\pi}_2(s_2)) = v_2 $$\n",
    "\n",
    "The critic network applies a batch normalization to the state inputs, concatenates them with the action inputs, and then passes them through a fully connected network:\n",
    "\n",
    "    normalized_states = nn.BatchNorm1d(state_size * num_agents)(states)\n",
    "    concatenated_input = torch.cat((normalized_states, actions), dim=1)\n",
    "    output = nn.Sequential(\n",
    "        nn.Linear((state_size + action_size) * num_agents, 64),\n",
    "        nn.ReLU(),\n",
    "        nn.Linear(64, 64),\n",
    "        nn.ReLU(),\n",
    "        nn.Linear(64, 1)\n",
    "    )(concatenated_input)\n",
    "    \n",
    "The critic network is implemented in `model.py`.\n",
    "\n",
    "#### Noise process\n",
    "\n",
    "The noise process used during training is a stateful Ornstein-Uhlenbeck process associated with each agent and action size, with drift $\\mu = 0$:\n",
    "\n",
    "    x := state\n",
    "    dx := theta * (mu - x) + sigma * gaussian_noise\n",
    "    state := x + dx\n",
    "    return state * scale\n",
    "\n",
    "The noise process is implemented in `noise.py`.\n",
    "\n",
    "### Training\n",
    "\n",
    "#### Replay buffer\n",
    "\n",
    "We use a shared replay buffer, implemented in `memory.py`, to keep track of the observed experiences for all agents at each step:\n",
    "\n",
    "- **state**: Tuple of states ($s_1$, $s_2$) observed by each agent\n",
    "- **action**: Tuple of actions ($\\tilde{\\pi}_1(s_1)$, $\\tilde{\\pi}_2(s_2)$) selected by each agent\n",
    "- **reward**: Tuple of reward values ($r_1$, $r_2$) provided to each agent\n",
    "- **next_state**: Tuple of future states ($s'_1$, $s'_2$) reached by each agent after taking the actions\n",
    "- **done**: Tuple of flags determining whether the agents reached a terminal state\n",
    "\n",
    "Experiences are stored on a rolling buffer.  At each training step, a batch of random experiences (with replacement) is selected, and used on the optimization steps.\n",
    "\n",
    "#### Loss functions\n",
    "\n",
    "The critic loss for each agent is computed as the mean-square error between the target rewards and the expected rewards:\n",
    "    \n",
    "    for each agent:\n",
    "        target_actions := [pi_i(next_state[i]) for i in agents]\n",
    "        Q_targets_next := agent.target_critic(next_state, target_actions)\n",
    "        Q_targets := rewards[agent] + gamma * Q_targets_next * (1 - done[agent])\n",
    "        Q_expected := agent.critic(state, action)\n",
    "        critic_loss := MSE(Q_targets, Q_expected)\n",
    "        \n",
    "The actor loss for each agent is computed based on the critic value:\n",
    "\n",
    "    for each agent:\n",
    "        Q_input := [pi_i(state[i]) for i in agents]\n",
    "        actor_loss := -agent.critic(state, Q_input).mean()\n",
    "        \n",
    "Independent optimizers are used for the action and critic losses, with clipped gradient values.\n",
    "\n",
    "#### Soft target updates\n",
    "\n",
    "After each optimization step, a soft target update is performed on the actor and critic networks:\n",
    "\n",
    "    target_params := target_params * (1 - tau) + local_params * tau\n",
    "\n",
    "The training process is implemented in `ddpg.py` and `maddpg.py`.\n",
    "\n",
    "\n",
    "### Hyperparameters\n",
    "\n",
    "Agent hyperparameters may be passed as constructor arguments to `MADDPG`.  The default values, used in this workbook, are:\n",
    "\n",
    "| parameter                      | value      | description                                                             |\n",
    "|--------------------------------|------------|-------------------------------------------------------------------------|     \n",
    "| actor_network_units            | (64, 64)   | Network topology for actor network function                             |\n",
    "| critic_network_units           | (64, 64)   | Network topology for critic network function                            |\n",
    "| optimizer_learning_rate_actor  | 1e-3       | Initial learning rate for Adam optimizers used on actor networks        |\n",
    "| optimizer_learning_rate_critic | 1e-3       | Initial learning rate for Adam optimizers used on critic networks       |\n",
    "| optimizer_weight_decay_actor   | 0          | Weight decay for Adam optimizers used on actor networks                 |\n",
    "| optimizer_weight_decay_critic  | 0          | Weight decay for Adam optimizers used on critic networks                |\n",
    "| noise_scale                    | 0.1        | Scale for the Ornstein–Uhlenbeck noise process                          |\n",
    "| noise_theta                    | 0.2        | Theta parameter for the Ornstein–Uhlenbeck noise process                |\n",
    "| noise_sigma                    | 0.2        | Sigma parameter for the Ornstein–Uhlenbeck noise process                |\n",
    "| gamma                    | 0.99       | Discount rate for future rewards                                              |\n",
    "| tau                      | 1e-3       | Scaling parameter for soft target updates                                     |\n",
    "| batch_size               | 128        | Number of N-agent experiences to collect for a single optimization step       |\n",
    "| update_every             | 1          | Number of steps performed between updates                                     |\n",
    "| gradient_clip_actor      | 1.0        | Clipping parameter for gradient descent during actor optimization             |\n",
    "| gradient_clip_critic     | 1.0        | Clipping parameter for gradient descent during critic optimization            |\n",
    "\n",
    "Training hyperparameters are passed on the training function itself, `train_multiagent`, defined below.  The default values are:\n",
    "\n",
    "| parameter                     | value      | description                                           |\n",
    "|-------------------------------|------------|-------------------------------------------------------|\n",
    "| n_episodes                    | 4000       | Maximum number of training episodes                   |\n",
    "| max_t                         | 5000       | Maximum number of steps per episode                   |\n",
    "| solved_score                  | 1.5        | Average score over episodes required to consider problem solved     |"
   ]
  },
  {
   "cell_type": "markdown",
   "metadata": {},
   "source": [
    "## Execution\n",
    "\n",
    "Import required system packages: "
   ]
  },
  {
   "cell_type": "code",
   "execution_count": 1,
   "metadata": {},
   "outputs": [],
   "source": [
    "from unityagents import UnityEnvironment\n",
    "import numpy as np\n",
    "import matplotlib.pyplot as plt\n",
    "%matplotlib inline"
   ]
  },
  {
   "cell_type": "markdown",
   "metadata": {},
   "source": [
    "Next, we will start the environment!  **_Before running the code cell below_**, change the `file_name` parameter to match the location of the Unity environment that you downloaded.\n",
    "\n",
    "- **Mac**: `\"path/to/Tennis.app\"`\n",
    "- **Windows** (x86): `\"path/to/Tennis_Windows_x86/Tennis.exe\"`\n",
    "- **Windows** (x86_64): `\"path/to/Tennis_Windows_x86_64/Tennis.exe\"`\n",
    "- **Linux** (x86): `\"path/to/Tennis_Linux/Tennis.x86\"`\n",
    "- **Linux** (x86_64): `\"path/to/Tennis_Linux/Tennis.x86_64\"`\n",
    "- **Linux** (x86, headless): `\"path/to/Tennis_Linux_NoVis/Tennis.x86\"`\n",
    "- **Linux** (x86_64, headless): `\"path/to/Tennis_Linux_NoVis/Tennis.x86_64\"`\n",
    "\n",
    "For instance, if you are using a Mac, then you downloaded `Tennis.app`.  If this file is in the same folder as the notebook, then the line below should appear as follows:\n",
    "```\n",
    "env = UnityEnvironment(file_name=\"Tennis.app\")\n",
    "```"
   ]
  },
  {
   "cell_type": "code",
   "execution_count": 2,
   "metadata": {},
   "outputs": [
    {
     "name": "stderr",
     "output_type": "stream",
     "text": [
      "INFO:unityagents:\n",
      "'Academy' started successfully!\n",
      "Unity Academy name: Academy\n",
      "        Number of Brains: 1\n",
      "        Number of External Brains : 1\n",
      "        Lesson number : 0\n",
      "        Reset Parameters :\n",
      "\t\t\n",
      "Unity brain name: TennisBrain\n",
      "        Number of Visual Observations (per agent): 0\n",
      "        Vector Observation space type: continuous\n",
      "        Vector Observation space size (per agent): 8\n",
      "        Number of stacked Vector Observation: 3\n",
      "        Vector Action space type: continuous\n",
      "        Vector Action space size (per agent): 2\n",
      "        Vector Action descriptions: , \n"
     ]
    }
   ],
   "source": [
    "env = UnityEnvironment(file_name=\"Tennis_Windows_x86_64/Tennis.exe\")"
   ]
  },
  {
   "cell_type": "markdown",
   "metadata": {},
   "source": [
    "Let's get the state and action dimensions, and initialize our agent:"
   ]
  },
  {
   "cell_type": "code",
   "execution_count": 3,
   "metadata": {},
   "outputs": [],
   "source": [
    "# get the default brain\n",
    "brain_name = env.brain_names[0]\n",
    "brain = env.brains[brain_name]\n",
    "\n",
    "# reset the environment\n",
    "env_info = env.reset(train_mode=True)[brain_name]"
   ]
  },
  {
   "cell_type": "code",
   "execution_count": 4,
   "metadata": {},
   "outputs": [
    {
     "name": "stdout",
     "output_type": "stream",
     "text": [
      "Number of agents: 2\n",
      "Size of each action: 2\n",
      "There are 2 agents. Each observes a state with length: 24\n",
      "The state for the first agent looks like: [ 0.          0.          0.          0.          0.          0.\n",
      "  0.          0.          0.          0.          0.          0.\n",
      "  0.          0.          0.          0.         -6.65278625 -1.5\n",
      " -0.          0.          6.83172083  6.         -0.          0.        ]\n"
     ]
    }
   ],
   "source": [
    "# number of agents\n",
    "num_agents = len(env_info.agents)\n",
    "print('Number of agents:', num_agents)\n",
    "\n",
    "# size of each action\n",
    "action_size = brain.vector_action_space_size\n",
    "print('Size of each action:', action_size)\n",
    "\n",
    "# examine the state space \n",
    "states = env_info.vector_observations\n",
    "state_size = states.shape[1]\n",
    "print('There are {} agents. Each observes a state with length: {}'.format(states.shape[0], state_size))\n",
    "print('The state for the first agent looks like:', states[0])"
   ]
  },
  {
   "cell_type": "code",
   "execution_count": 5,
   "metadata": {},
   "outputs": [],
   "source": [
    "from collections import deque\n",
    "\n",
    "def train_multiagent(\n",
    "    env, \n",
    "    multiagent, \n",
    "    n_episodes=1000, \n",
    "    max_t=5000, \n",
    "    display_every=10,\n",
    "    solved_score=0.5, \n",
    "    save_filename=None\n",
    "):\n",
    "    scores = []\n",
    "    scores_window = deque(maxlen=100)\n",
    "    \n",
    "    for i_episode in range(1, n_episodes + 1):    \n",
    "        env_info = env.reset(train_mode=True)[brain_name]\n",
    "        states = env_info.vector_observations\n",
    "        \n",
    "        n_actors = len(states)\n",
    "        score = np.zeros(n_actors)\n",
    "        \n",
    "        for t in range(max_t):\n",
    "            actions = multiagent.act(states)\n",
    "            \n",
    "            env_info = env.step(actions)[brain_name]\n",
    "            next_states = env_info.vector_observations\n",
    "            rewards = np.array(env_info.rewards)\n",
    "            dones = env_info.local_done\n",
    "                        \n",
    "            multiagent.step(states, actions, rewards, next_states, dones)\n",
    "            states = next_states\n",
    "            score += np.array(rewards)\n",
    "            \n",
    "            if np.any(dones):\n",
    "                break\n",
    "\n",
    "        max_score = score.max()               # get the maximum score over agents\n",
    "        scores_window.append(max_score)       # save most recent score\n",
    "        scores.append(max_score)              # save most recent score\n",
    "        \n",
    "        print('\\rEpisode {}\\tAverage score: {:.4f}'.format(\n",
    "            i_episode, np.mean(scores_window)\n",
    "        ), end=\"\")\n",
    "        if i_episode % display_every == 0:\n",
    "            print('\\rEpisode {}\\tAverage score: {:.4f}'.format(\n",
    "                i_episode, np.mean(scores_window)\n",
    "            ))\n",
    "            \n",
    "        if np.mean(scores_window) >= solved_score:\n",
    "            print('\\nEnvironment solved in {:d} episodes!\\tAverage score: {:.4f}'.format(\n",
    "                np.maximum(i_episode-100, 0), np.mean(scores_window))\n",
    "             )\n",
    "            if save_filename is not None:\n",
    "                multiagent.save(save_filename)\n",
    "            break\n",
    "    \n",
    "    return scores"
   ]
  },
  {
   "cell_type": "code",
   "execution_count": 6,
   "metadata": {},
   "outputs": [],
   "source": [
    "# Initialize agent\n",
    "\n",
    "from maddpg import MADDPG"
   ]
  },
  {
   "cell_type": "code",
   "execution_count": 7,
   "metadata": {
    "scrolled": true
   },
   "outputs": [
    {
     "name": "stdout",
     "output_type": "stream",
     "text": [
      "Episode 100\tAverage score: 0.0018\n",
      "Episode 200\tAverage score: 0.0000\n",
      "Episode 300\tAverage score: 0.0030\n",
      "Episode 400\tAverage score: 0.0000\n",
      "Episode 500\tAverage score: 0.0030\n",
      "Episode 600\tAverage score: 0.0110\n",
      "Episode 700\tAverage score: 0.0230\n",
      "Episode 800\tAverage score: 0.0280\n",
      "Episode 900\tAverage score: 0.0597\n",
      "Episode 1000\tAverage score: 0.0418\n",
      "Episode 1100\tAverage score: 0.0359\n",
      "Episode 1200\tAverage score: 0.0477\n",
      "Episode 1300\tAverage score: 0.0525\n",
      "Episode 1400\tAverage score: 0.1136\n",
      "Episode 1500\tAverage score: 0.3043\n",
      "Episode 1600\tAverage score: 0.7281\n",
      "Episode 1688\tAverage score: 1.5006\n",
      "Environment solved in 1588 episodes!\tAverage score: 1.5006\n"
     ]
    },
    {
     "data": {
      "image/png": "[encoded data removed]",
      "text/plain": [
       "<Figure size 432x288 with 1 Axes>"
      ]
     },
     "metadata": {
      "needs_background": "light"
     },
     "output_type": "display_data"
    }
   ],
   "source": [
    "multiagent = MADDPG(\n",
    "    state_size=state_size, \n",
    "    action_size=action_size,\n",
    "    actor_network_units=(64, 64),\n",
    "    critic_network_units=(64, 64),\n",
    "    optimizer_learning_rate_actor=1e-3,\n",
    "    optimizer_learning_rate_critic=1e-3,\n",
    "    batch_size=128,\n",
    "    update_every=1,\n",
    "    noise_scale=0.1,\n",
    "    noise_theta=0.2,\n",
    "    noise_sigma=0.2\n",
    ")\n",
    "\n",
    "filename = 'checkpoint-tennis.pth'\n",
    "scores = train_multiagent(\n",
    "    env, \n",
    "    multiagent, \n",
    "    display_every=100, \n",
    "    n_episodes=10000,\n",
    "    max_t=5000,\n",
    "    solved_score=1.5, \n",
    "    save_filename=filename\n",
    ")\n",
    "multiagent.save(filename)\n",
    "\n",
    "def moving_average(a, n=3) :\n",
    "    ret = np.cumsum(a, dtype=float)\n",
    "    ret[n:] = ret[n:] - ret[:-n]\n",
    "    return ret / np.append(np.array(range(n)) + 1, n * np.ones(len(ret) - n))\n",
    "\n",
    "# plot the score and the average scores\n",
    "fig = plt.figure()\n",
    "ax = fig.add_subplot(111)\n",
    "plt.plot(np.arange(len(scores)), scores, 'b')\n",
    "plt.plot(np.arange(len(moving_average(scores, n=100))), moving_average(scores, n=100), 'r')\n",
    "plt.ylabel('Score')\n",
    "plt.xlabel('Episode #')\n",
    "plt.show()"
   ]
  },
  {
   "cell_type": "code",
   "execution_count": 9,
   "metadata": {},
   "outputs": [
    {
     "name": "stdout",
     "output_type": "stream",
     "text": [
      "Total score (averaged over agents) this episode: 1.600000023841858\n"
     ]
    }
   ],
   "source": [
    "# Run through once with loaded model\n",
    "env_info = env.reset(train_mode=False)[brain_name]            # reset the environment    \n",
    "states = env_info.vector_observations                         # get the current state (for each agent)\n",
    "scores = np.zeros(num_agents)                                 # initialize the score (for each agent)\n",
    "for t in range(1000):\n",
    "    actions = multiagent.act(states, noise=0)                 # get actions from model (for each agent)\n",
    "    env_info = env.step(actions)[brain_name]                  # send all actions to tne environment\n",
    "    next_states = env_info.vector_observations                # get next state (for each agent)\n",
    "    rewards = env_info.rewards                                # get reward (for each agent)\n",
    "    dones = env_info.local_done                               # see if episode finished\n",
    "    scores += env_info.rewards                                # update the score (for each agent)\n",
    "    states = next_states                                      # roll over states to next time step\n",
    "    if np.any(dones):                                         # exit loop if episode finished\n",
    "        break\n",
    "\n",
    "print('Total score (averaged over agents) this episode: {}'.format(np.max(scores)))"
   ]
  },
  {
   "cell_type": "markdown",
   "metadata": {},
   "source": [
    "When finished, we can close the environment:"
   ]
  },
  {
   "cell_type": "code",
   "execution_count": null,
   "metadata": {},
   "outputs": [],
   "source": [
    "# env.close()"
   ]
  },
  {
   "cell_type": "markdown",
   "metadata": {},
   "source": [
    "## Ideas for future improvement\n",
    "\n",
    "- Use seeds for the random components in training in order to make the process reproducible\n",
    "- Associate separate memory buffers with each agent in order to allow ensemble training\n",
    "- Use Prioritized Experience Replay to select experiences to use in training each agent\n",
    "- Perform a more complete hyperparameter search\n",
    "- Try to solve the problem with other multi-agent algorithms"
   ]
  }
 ],
 "metadata": {
  "kernelspec": {
   "display_name": "drlnd",
   "language": "python",
   "name": "drlnd"
  },
  "language_info": {
   "codemirror_mode": {
    "name": "ipython",
    "version": 3
   },
   "file_extension": ".py",
   "mimetype": "text/x-python",
   "name": "python",
   "nbconvert_exporter": "python",
   "pygments_lexer": "ipython3",
   "version": "3.6.9"
  }
 },
 "nbformat": 4,
 "nbformat_minor": 2
}
